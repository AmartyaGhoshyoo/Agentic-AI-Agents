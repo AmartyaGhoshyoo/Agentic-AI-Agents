{
 "cells": [
  {
   "cell_type": "code",
   "execution_count": 24,
   "id": "0635addb",
   "metadata": {},
   "outputs": [
    {
     "name": "stdout",
     "output_type": "stream",
     "text": [
      "                                 name\n",
      "0                          migrations\n",
      "1                    embeddings_queue\n",
      "2             embeddings_queue_config\n",
      "3                 collection_metadata\n",
      "4                    segment_metadata\n",
      "5                             tenants\n",
      "6                           databases\n",
      "7                         collections\n",
      "8                     maintenance_log\n",
      "9                            segments\n",
      "10                         embeddings\n",
      "11                 embedding_metadata\n",
      "12                         max_seq_id\n",
      "13          embedding_fulltext_search\n",
      "14     embedding_fulltext_search_data\n",
      "15      embedding_fulltext_search_idx\n",
      "16  embedding_fulltext_search_content\n",
      "17  embedding_fulltext_search_docsize\n",
      "18   embedding_fulltext_search_config\n",
      "   id                            segment_id  \\\n",
      "0   1  e9759a48-8cea-458d-8e04-7b1f0c475fbb   \n",
      "\n",
      "                           embedding_id                               seq_id  \\\n",
      "0  d42fa1c9-519c-4a60-a2c7-8f17fb4545a2  b'\\x00\\x00\\x00\\x00\\x00\\x00\\x00\\x01'   \n",
      "\n",
      "            created_at  \n",
      "0  2025-09-25 12:23:51  \n"
     ]
    }
   ],
   "source": [
    "import sqlite3\n",
    "import pandas as pd\n",
    "\n",
    "# Connect to Chroma's sqlite DB\n",
    "conn = sqlite3.connect(\"/Users/amartyaghosh/Library/Mobile Documents/com~apple~TextEdit/Documents/Projects ML/Heart Disease Prediction/Agentic AI/Agentic -AI- Agents/CrewAI_Database/chroma.sqlite3\")\n",
    "\n",
    "# Show all tables\n",
    "tables = pd.read_sql_query(\"SELECT name FROM sqlite_master WHERE type='table';\", conn)\n",
    "print(tables)\n",
    "\n",
    "# Peek inside embeddings\n",
    "df = pd.read_sql_query(\"SELECT * FROM embeddings LIMIT 5;\", conn)\n",
    "print(df.head())\n"
   ]
  },
  {
   "cell_type": "code",
   "execution_count": 25,
   "id": "5bb9ecfc",
   "metadata": {},
   "outputs": [
    {
     "data": {
      "text/html": [
       "<div>\n",
       "<style scoped>\n",
       "    .dataframe tbody tr th:only-of-type {\n",
       "        vertical-align: middle;\n",
       "    }\n",
       "\n",
       "    .dataframe tbody tr th {\n",
       "        vertical-align: top;\n",
       "    }\n",
       "\n",
       "    .dataframe thead th {\n",
       "        text-align: right;\n",
       "    }\n",
       "</style>\n",
       "<table border=\"1\" class=\"dataframe\">\n",
       "  <thead>\n",
       "    <tr style=\"text-align: right;\">\n",
       "      <th></th>\n",
       "      <th>id</th>\n",
       "      <th>segment_id</th>\n",
       "      <th>embedding_id</th>\n",
       "      <th>seq_id</th>\n",
       "      <th>created_at</th>\n",
       "    </tr>\n",
       "  </thead>\n",
       "  <tbody>\n",
       "    <tr>\n",
       "      <th>0</th>\n",
       "      <td>1</td>\n",
       "      <td>e9759a48-8cea-458d-8e04-7b1f0c475fbb</td>\n",
       "      <td>d42fa1c9-519c-4a60-a2c7-8f17fb4545a2</td>\n",
       "      <td>b'\\x00\\x00\\x00\\x00\\x00\\x00\\x00\\x01'</td>\n",
       "      <td>2025-09-25 12:23:51</td>\n",
       "    </tr>\n",
       "  </tbody>\n",
       "</table>\n",
       "</div>"
      ],
      "text/plain": [
       "   id                            segment_id  \\\n",
       "0   1  e9759a48-8cea-458d-8e04-7b1f0c475fbb   \n",
       "\n",
       "                           embedding_id                               seq_id  \\\n",
       "0  d42fa1c9-519c-4a60-a2c7-8f17fb4545a2  b'\\x00\\x00\\x00\\x00\\x00\\x00\\x00\\x01'   \n",
       "\n",
       "            created_at  \n",
       "0  2025-09-25 12:23:51  "
      ]
     },
     "execution_count": 25,
     "metadata": {},
     "output_type": "execute_result"
    }
   ],
   "source": [
    "df"
   ]
  },
  {
   "cell_type": "code",
   "execution_count": 26,
   "id": "51ef6d5a",
   "metadata": {},
   "outputs": [
    {
     "data": {
      "text/html": [
       "<div>\n",
       "<style scoped>\n",
       "    .dataframe tbody tr th:only-of-type {\n",
       "        vertical-align: middle;\n",
       "    }\n",
       "\n",
       "    .dataframe tbody tr th {\n",
       "        vertical-align: top;\n",
       "    }\n",
       "\n",
       "    .dataframe thead th {\n",
       "        text-align: right;\n",
       "    }\n",
       "</style>\n",
       "<table border=\"1\" class=\"dataframe\">\n",
       "  <thead>\n",
       "    <tr style=\"text-align: right;\">\n",
       "      <th></th>\n",
       "      <th>name</th>\n",
       "    </tr>\n",
       "  </thead>\n",
       "  <tbody>\n",
       "    <tr>\n",
       "      <th>0</th>\n",
       "      <td>migrations</td>\n",
       "    </tr>\n",
       "    <tr>\n",
       "      <th>1</th>\n",
       "      <td>embeddings_queue</td>\n",
       "    </tr>\n",
       "    <tr>\n",
       "      <th>2</th>\n",
       "      <td>embeddings_queue_config</td>\n",
       "    </tr>\n",
       "    <tr>\n",
       "      <th>3</th>\n",
       "      <td>collection_metadata</td>\n",
       "    </tr>\n",
       "    <tr>\n",
       "      <th>4</th>\n",
       "      <td>segment_metadata</td>\n",
       "    </tr>\n",
       "    <tr>\n",
       "      <th>5</th>\n",
       "      <td>tenants</td>\n",
       "    </tr>\n",
       "    <tr>\n",
       "      <th>6</th>\n",
       "      <td>databases</td>\n",
       "    </tr>\n",
       "    <tr>\n",
       "      <th>7</th>\n",
       "      <td>collections</td>\n",
       "    </tr>\n",
       "    <tr>\n",
       "      <th>8</th>\n",
       "      <td>maintenance_log</td>\n",
       "    </tr>\n",
       "    <tr>\n",
       "      <th>9</th>\n",
       "      <td>segments</td>\n",
       "    </tr>\n",
       "    <tr>\n",
       "      <th>10</th>\n",
       "      <td>embeddings</td>\n",
       "    </tr>\n",
       "    <tr>\n",
       "      <th>11</th>\n",
       "      <td>embedding_metadata</td>\n",
       "    </tr>\n",
       "    <tr>\n",
       "      <th>12</th>\n",
       "      <td>max_seq_id</td>\n",
       "    </tr>\n",
       "    <tr>\n",
       "      <th>13</th>\n",
       "      <td>embedding_fulltext_search</td>\n",
       "    </tr>\n",
       "    <tr>\n",
       "      <th>14</th>\n",
       "      <td>embedding_fulltext_search_data</td>\n",
       "    </tr>\n",
       "    <tr>\n",
       "      <th>15</th>\n",
       "      <td>embedding_fulltext_search_idx</td>\n",
       "    </tr>\n",
       "    <tr>\n",
       "      <th>16</th>\n",
       "      <td>embedding_fulltext_search_content</td>\n",
       "    </tr>\n",
       "    <tr>\n",
       "      <th>17</th>\n",
       "      <td>embedding_fulltext_search_docsize</td>\n",
       "    </tr>\n",
       "    <tr>\n",
       "      <th>18</th>\n",
       "      <td>embedding_fulltext_search_config</td>\n",
       "    </tr>\n",
       "  </tbody>\n",
       "</table>\n",
       "</div>"
      ],
      "text/plain": [
       "                                 name\n",
       "0                          migrations\n",
       "1                    embeddings_queue\n",
       "2             embeddings_queue_config\n",
       "3                 collection_metadata\n",
       "4                    segment_metadata\n",
       "5                             tenants\n",
       "6                           databases\n",
       "7                         collections\n",
       "8                     maintenance_log\n",
       "9                            segments\n",
       "10                         embeddings\n",
       "11                 embedding_metadata\n",
       "12                         max_seq_id\n",
       "13          embedding_fulltext_search\n",
       "14     embedding_fulltext_search_data\n",
       "15      embedding_fulltext_search_idx\n",
       "16  embedding_fulltext_search_content\n",
       "17  embedding_fulltext_search_docsize\n",
       "18   embedding_fulltext_search_config"
      ]
     },
     "execution_count": 26,
     "metadata": {},
     "output_type": "execute_result"
    }
   ],
   "source": [
    "tables"
   ]
  },
  {
   "cell_type": "code",
   "execution_count": 27,
   "id": "c20874e5",
   "metadata": {},
   "outputs": [],
   "source": [
    "df_metadata = pd.read_sql_query(\"SELECT * FROM embedding_fulltext_search_content;\", conn)\n"
   ]
  },
  {
   "cell_type": "code",
   "execution_count": 28,
   "id": "f72aae53",
   "metadata": {},
   "outputs": [
    {
     "data": {
      "text/plain": [
       "Series([], Name: c0, dtype: object)"
      ]
     },
     "execution_count": 28,
     "metadata": {},
     "output_type": "execute_result"
    }
   ],
   "source": [
    "df_metadata['c0']"
   ]
  },
  {
   "cell_type": "markdown",
   "id": "963e6aca",
   "metadata": {},
   "source": []
  },
  {
   "cell_type": "code",
   "execution_count": null,
   "id": "23628cb0",
   "metadata": {},
   "outputs": [],
   "source": []
  },
  {
   "cell_type": "code",
   "execution_count": null,
   "id": "f8517a17",
   "metadata": {},
   "outputs": [],
   "source": []
  }
 ],
 "metadata": {
  "kernelspec": {
   "display_name": "Projects",
   "language": "python",
   "name": "python3"
  },
  "language_info": {
   "codemirror_mode": {
    "name": "ipython",
    "version": 3
   },
   "file_extension": ".py",
   "mimetype": "text/x-python",
   "name": "python",
   "nbconvert_exporter": "python",
   "pygments_lexer": "ipython3",
   "version": "3.12.5"
  }
 },
 "nbformat": 4,
 "nbformat_minor": 5
}
